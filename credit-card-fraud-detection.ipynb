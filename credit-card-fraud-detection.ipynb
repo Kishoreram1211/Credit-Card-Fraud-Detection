{
 "cells": [
  {
   "cell_type": "markdown",
   "id": "e789f59f",
   "metadata": {
    "papermill": {
     "duration": 0.01133,
     "end_time": "2024-02-14T16:24:53.997473",
     "exception": false,
     "start_time": "2024-02-14T16:24:53.986143",
     "status": "completed"
    },
    "tags": []
   },
   "source": [
    "# **Importing necessary packages**"
   ]
  },
  {
   "cell_type": "code",
   "execution_count": 1,
   "id": "c11dbaf2",
   "metadata": {
    "execution": {
     "iopub.execute_input": "2024-02-14T16:24:54.021381Z",
     "iopub.status.busy": "2024-02-14T16:24:54.020990Z",
     "iopub.status.idle": "2024-02-14T16:24:54.840513Z",
     "shell.execute_reply": "2024-02-14T16:24:54.839092Z"
    },
    "papermill": {
     "duration": 0.834642,
     "end_time": "2024-02-14T16:24:54.843280",
     "exception": false,
     "start_time": "2024-02-14T16:24:54.008638",
     "status": "completed"
    },
    "tags": []
   },
   "outputs": [],
   "source": [
    "import numpy as np\n",
    "import pandas as pd"
   ]
  },
  {
   "cell_type": "markdown",
   "id": "808df22a",
   "metadata": {
    "papermill": {
     "duration": 0.010724,
     "end_time": "2024-02-14T16:24:54.868381",
     "exception": false,
     "start_time": "2024-02-14T16:24:54.857657",
     "status": "completed"
    },
    "tags": []
   },
   "source": [
    "# **Data collection and processing**"
   ]
  },
  {
   "cell_type": "code",
   "execution_count": 2,
   "id": "cca63c71",
   "metadata": {
    "execution": {
     "iopub.execute_input": "2024-02-14T16:24:54.892401Z",
     "iopub.status.busy": "2024-02-14T16:24:54.891862Z",
     "iopub.status.idle": "2024-02-14T16:24:59.045411Z",
     "shell.execute_reply": "2024-02-14T16:24:59.044190Z"
    },
    "papermill": {
     "duration": 4.168811,
     "end_time": "2024-02-14T16:24:59.048247",
     "exception": false,
     "start_time": "2024-02-14T16:24:54.879436",
     "status": "completed"
    },
    "tags": []
   },
   "outputs": [],
   "source": [
    "df = pd.read_csv('/kaggle/input/creditcardfraud/creditcard.csv')"
   ]
  },
  {
   "cell_type": "code",
   "execution_count": 3,
   "id": "d7c00fdf",
   "metadata": {
    "_kg_hide-input": false,
    "execution": {
     "iopub.execute_input": "2024-02-14T16:24:59.072713Z",
     "iopub.status.busy": "2024-02-14T16:24:59.072331Z",
     "iopub.status.idle": "2024-02-14T16:24:59.106968Z",
     "shell.execute_reply": "2024-02-14T16:24:59.105713Z"
    },
    "papermill": {
     "duration": 0.050015,
     "end_time": "2024-02-14T16:24:59.109780",
     "exception": false,
     "start_time": "2024-02-14T16:24:59.059765",
     "status": "completed"
    },
    "tags": []
   },
   "outputs": [
    {
     "data": {
      "text/html": [
       "<div>\n",
       "<style scoped>\n",
       "    .dataframe tbody tr th:only-of-type {\n",
       "        vertical-align: middle;\n",
       "    }\n",
       "\n",
       "    .dataframe tbody tr th {\n",
       "        vertical-align: top;\n",
       "    }\n",
       "\n",
       "    .dataframe thead th {\n",
       "        text-align: right;\n",
       "    }\n",
       "</style>\n",
       "<table border=\"1\" class=\"dataframe\">\n",
       "  <thead>\n",
       "    <tr style=\"text-align: right;\">\n",
       "      <th></th>\n",
       "      <th>Time</th>\n",
       "      <th>V1</th>\n",
       "      <th>V2</th>\n",
       "      <th>V3</th>\n",
       "      <th>V4</th>\n",
       "      <th>V5</th>\n",
       "      <th>V6</th>\n",
       "      <th>V7</th>\n",
       "      <th>V8</th>\n",
       "      <th>V9</th>\n",
       "      <th>...</th>\n",
       "      <th>V21</th>\n",
       "      <th>V22</th>\n",
       "      <th>V23</th>\n",
       "      <th>V24</th>\n",
       "      <th>V25</th>\n",
       "      <th>V26</th>\n",
       "      <th>V27</th>\n",
       "      <th>V28</th>\n",
       "      <th>Amount</th>\n",
       "      <th>Class</th>\n",
       "    </tr>\n",
       "  </thead>\n",
       "  <tbody>\n",
       "    <tr>\n",
       "      <th>0</th>\n",
       "      <td>0.0</td>\n",
       "      <td>-1.359807</td>\n",
       "      <td>-0.072781</td>\n",
       "      <td>2.536347</td>\n",
       "      <td>1.378155</td>\n",
       "      <td>-0.338321</td>\n",
       "      <td>0.462388</td>\n",
       "      <td>0.239599</td>\n",
       "      <td>0.098698</td>\n",
       "      <td>0.363787</td>\n",
       "      <td>...</td>\n",
       "      <td>-0.018307</td>\n",
       "      <td>0.277838</td>\n",
       "      <td>-0.110474</td>\n",
       "      <td>0.066928</td>\n",
       "      <td>0.128539</td>\n",
       "      <td>-0.189115</td>\n",
       "      <td>0.133558</td>\n",
       "      <td>-0.021053</td>\n",
       "      <td>149.62</td>\n",
       "      <td>0</td>\n",
       "    </tr>\n",
       "    <tr>\n",
       "      <th>1</th>\n",
       "      <td>0.0</td>\n",
       "      <td>1.191857</td>\n",
       "      <td>0.266151</td>\n",
       "      <td>0.166480</td>\n",
       "      <td>0.448154</td>\n",
       "      <td>0.060018</td>\n",
       "      <td>-0.082361</td>\n",
       "      <td>-0.078803</td>\n",
       "      <td>0.085102</td>\n",
       "      <td>-0.255425</td>\n",
       "      <td>...</td>\n",
       "      <td>-0.225775</td>\n",
       "      <td>-0.638672</td>\n",
       "      <td>0.101288</td>\n",
       "      <td>-0.339846</td>\n",
       "      <td>0.167170</td>\n",
       "      <td>0.125895</td>\n",
       "      <td>-0.008983</td>\n",
       "      <td>0.014724</td>\n",
       "      <td>2.69</td>\n",
       "      <td>0</td>\n",
       "    </tr>\n",
       "    <tr>\n",
       "      <th>2</th>\n",
       "      <td>1.0</td>\n",
       "      <td>-1.358354</td>\n",
       "      <td>-1.340163</td>\n",
       "      <td>1.773209</td>\n",
       "      <td>0.379780</td>\n",
       "      <td>-0.503198</td>\n",
       "      <td>1.800499</td>\n",
       "      <td>0.791461</td>\n",
       "      <td>0.247676</td>\n",
       "      <td>-1.514654</td>\n",
       "      <td>...</td>\n",
       "      <td>0.247998</td>\n",
       "      <td>0.771679</td>\n",
       "      <td>0.909412</td>\n",
       "      <td>-0.689281</td>\n",
       "      <td>-0.327642</td>\n",
       "      <td>-0.139097</td>\n",
       "      <td>-0.055353</td>\n",
       "      <td>-0.059752</td>\n",
       "      <td>378.66</td>\n",
       "      <td>0</td>\n",
       "    </tr>\n",
       "    <tr>\n",
       "      <th>3</th>\n",
       "      <td>1.0</td>\n",
       "      <td>-0.966272</td>\n",
       "      <td>-0.185226</td>\n",
       "      <td>1.792993</td>\n",
       "      <td>-0.863291</td>\n",
       "      <td>-0.010309</td>\n",
       "      <td>1.247203</td>\n",
       "      <td>0.237609</td>\n",
       "      <td>0.377436</td>\n",
       "      <td>-1.387024</td>\n",
       "      <td>...</td>\n",
       "      <td>-0.108300</td>\n",
       "      <td>0.005274</td>\n",
       "      <td>-0.190321</td>\n",
       "      <td>-1.175575</td>\n",
       "      <td>0.647376</td>\n",
       "      <td>-0.221929</td>\n",
       "      <td>0.062723</td>\n",
       "      <td>0.061458</td>\n",
       "      <td>123.50</td>\n",
       "      <td>0</td>\n",
       "    </tr>\n",
       "    <tr>\n",
       "      <th>4</th>\n",
       "      <td>2.0</td>\n",
       "      <td>-1.158233</td>\n",
       "      <td>0.877737</td>\n",
       "      <td>1.548718</td>\n",
       "      <td>0.403034</td>\n",
       "      <td>-0.407193</td>\n",
       "      <td>0.095921</td>\n",
       "      <td>0.592941</td>\n",
       "      <td>-0.270533</td>\n",
       "      <td>0.817739</td>\n",
       "      <td>...</td>\n",
       "      <td>-0.009431</td>\n",
       "      <td>0.798278</td>\n",
       "      <td>-0.137458</td>\n",
       "      <td>0.141267</td>\n",
       "      <td>-0.206010</td>\n",
       "      <td>0.502292</td>\n",
       "      <td>0.219422</td>\n",
       "      <td>0.215153</td>\n",
       "      <td>69.99</td>\n",
       "      <td>0</td>\n",
       "    </tr>\n",
       "  </tbody>\n",
       "</table>\n",
       "<p>5 rows × 31 columns</p>\n",
       "</div>"
      ],
      "text/plain": [
       "   Time        V1        V2        V3        V4        V5        V6        V7  \\\n",
       "0   0.0 -1.359807 -0.072781  2.536347  1.378155 -0.338321  0.462388  0.239599   \n",
       "1   0.0  1.191857  0.266151  0.166480  0.448154  0.060018 -0.082361 -0.078803   \n",
       "2   1.0 -1.358354 -1.340163  1.773209  0.379780 -0.503198  1.800499  0.791461   \n",
       "3   1.0 -0.966272 -0.185226  1.792993 -0.863291 -0.010309  1.247203  0.237609   \n",
       "4   2.0 -1.158233  0.877737  1.548718  0.403034 -0.407193  0.095921  0.592941   \n",
       "\n",
       "         V8        V9  ...       V21       V22       V23       V24       V25  \\\n",
       "0  0.098698  0.363787  ... -0.018307  0.277838 -0.110474  0.066928  0.128539   \n",
       "1  0.085102 -0.255425  ... -0.225775 -0.638672  0.101288 -0.339846  0.167170   \n",
       "2  0.247676 -1.514654  ...  0.247998  0.771679  0.909412 -0.689281 -0.327642   \n",
       "3  0.377436 -1.387024  ... -0.108300  0.005274 -0.190321 -1.175575  0.647376   \n",
       "4 -0.270533  0.817739  ... -0.009431  0.798278 -0.137458  0.141267 -0.206010   \n",
       "\n",
       "        V26       V27       V28  Amount  Class  \n",
       "0 -0.189115  0.133558 -0.021053  149.62      0  \n",
       "1  0.125895 -0.008983  0.014724    2.69      0  \n",
       "2 -0.139097 -0.055353 -0.059752  378.66      0  \n",
       "3 -0.221929  0.062723  0.061458  123.50      0  \n",
       "4  0.502292  0.219422  0.215153   69.99      0  \n",
       "\n",
       "[5 rows x 31 columns]"
      ]
     },
     "execution_count": 3,
     "metadata": {},
     "output_type": "execute_result"
    }
   ],
   "source": [
    "df.head()"
   ]
  },
  {
   "cell_type": "code",
   "execution_count": 4,
   "id": "c675a21b",
   "metadata": {
    "execution": {
     "iopub.execute_input": "2024-02-14T16:24:59.134304Z",
     "iopub.status.busy": "2024-02-14T16:24:59.133926Z",
     "iopub.status.idle": "2024-02-14T16:24:59.160441Z",
     "shell.execute_reply": "2024-02-14T16:24:59.159311Z"
    },
    "papermill": {
     "duration": 0.041352,
     "end_time": "2024-02-14T16:24:59.162578",
     "exception": false,
     "start_time": "2024-02-14T16:24:59.121226",
     "status": "completed"
    },
    "tags": []
   },
   "outputs": [
    {
     "data": {
      "text/html": [
       "<div>\n",
       "<style scoped>\n",
       "    .dataframe tbody tr th:only-of-type {\n",
       "        vertical-align: middle;\n",
       "    }\n",
       "\n",
       "    .dataframe tbody tr th {\n",
       "        vertical-align: top;\n",
       "    }\n",
       "\n",
       "    .dataframe thead th {\n",
       "        text-align: right;\n",
       "    }\n",
       "</style>\n",
       "<table border=\"1\" class=\"dataframe\">\n",
       "  <thead>\n",
       "    <tr style=\"text-align: right;\">\n",
       "      <th></th>\n",
       "      <th>Time</th>\n",
       "      <th>V1</th>\n",
       "      <th>V2</th>\n",
       "      <th>V3</th>\n",
       "      <th>V4</th>\n",
       "      <th>V5</th>\n",
       "      <th>V6</th>\n",
       "      <th>V7</th>\n",
       "      <th>V8</th>\n",
       "      <th>V9</th>\n",
       "      <th>...</th>\n",
       "      <th>V21</th>\n",
       "      <th>V22</th>\n",
       "      <th>V23</th>\n",
       "      <th>V24</th>\n",
       "      <th>V25</th>\n",
       "      <th>V26</th>\n",
       "      <th>V27</th>\n",
       "      <th>V28</th>\n",
       "      <th>Amount</th>\n",
       "      <th>Class</th>\n",
       "    </tr>\n",
       "  </thead>\n",
       "  <tbody>\n",
       "    <tr>\n",
       "      <th>284802</th>\n",
       "      <td>172786.0</td>\n",
       "      <td>-11.881118</td>\n",
       "      <td>10.071785</td>\n",
       "      <td>-9.834783</td>\n",
       "      <td>-2.066656</td>\n",
       "      <td>-5.364473</td>\n",
       "      <td>-2.606837</td>\n",
       "      <td>-4.918215</td>\n",
       "      <td>7.305334</td>\n",
       "      <td>1.914428</td>\n",
       "      <td>...</td>\n",
       "      <td>0.213454</td>\n",
       "      <td>0.111864</td>\n",
       "      <td>1.014480</td>\n",
       "      <td>-0.509348</td>\n",
       "      <td>1.436807</td>\n",
       "      <td>0.250034</td>\n",
       "      <td>0.943651</td>\n",
       "      <td>0.823731</td>\n",
       "      <td>0.77</td>\n",
       "      <td>0</td>\n",
       "    </tr>\n",
       "    <tr>\n",
       "      <th>284803</th>\n",
       "      <td>172787.0</td>\n",
       "      <td>-0.732789</td>\n",
       "      <td>-0.055080</td>\n",
       "      <td>2.035030</td>\n",
       "      <td>-0.738589</td>\n",
       "      <td>0.868229</td>\n",
       "      <td>1.058415</td>\n",
       "      <td>0.024330</td>\n",
       "      <td>0.294869</td>\n",
       "      <td>0.584800</td>\n",
       "      <td>...</td>\n",
       "      <td>0.214205</td>\n",
       "      <td>0.924384</td>\n",
       "      <td>0.012463</td>\n",
       "      <td>-1.016226</td>\n",
       "      <td>-0.606624</td>\n",
       "      <td>-0.395255</td>\n",
       "      <td>0.068472</td>\n",
       "      <td>-0.053527</td>\n",
       "      <td>24.79</td>\n",
       "      <td>0</td>\n",
       "    </tr>\n",
       "    <tr>\n",
       "      <th>284804</th>\n",
       "      <td>172788.0</td>\n",
       "      <td>1.919565</td>\n",
       "      <td>-0.301254</td>\n",
       "      <td>-3.249640</td>\n",
       "      <td>-0.557828</td>\n",
       "      <td>2.630515</td>\n",
       "      <td>3.031260</td>\n",
       "      <td>-0.296827</td>\n",
       "      <td>0.708417</td>\n",
       "      <td>0.432454</td>\n",
       "      <td>...</td>\n",
       "      <td>0.232045</td>\n",
       "      <td>0.578229</td>\n",
       "      <td>-0.037501</td>\n",
       "      <td>0.640134</td>\n",
       "      <td>0.265745</td>\n",
       "      <td>-0.087371</td>\n",
       "      <td>0.004455</td>\n",
       "      <td>-0.026561</td>\n",
       "      <td>67.88</td>\n",
       "      <td>0</td>\n",
       "    </tr>\n",
       "    <tr>\n",
       "      <th>284805</th>\n",
       "      <td>172788.0</td>\n",
       "      <td>-0.240440</td>\n",
       "      <td>0.530483</td>\n",
       "      <td>0.702510</td>\n",
       "      <td>0.689799</td>\n",
       "      <td>-0.377961</td>\n",
       "      <td>0.623708</td>\n",
       "      <td>-0.686180</td>\n",
       "      <td>0.679145</td>\n",
       "      <td>0.392087</td>\n",
       "      <td>...</td>\n",
       "      <td>0.265245</td>\n",
       "      <td>0.800049</td>\n",
       "      <td>-0.163298</td>\n",
       "      <td>0.123205</td>\n",
       "      <td>-0.569159</td>\n",
       "      <td>0.546668</td>\n",
       "      <td>0.108821</td>\n",
       "      <td>0.104533</td>\n",
       "      <td>10.00</td>\n",
       "      <td>0</td>\n",
       "    </tr>\n",
       "    <tr>\n",
       "      <th>284806</th>\n",
       "      <td>172792.0</td>\n",
       "      <td>-0.533413</td>\n",
       "      <td>-0.189733</td>\n",
       "      <td>0.703337</td>\n",
       "      <td>-0.506271</td>\n",
       "      <td>-0.012546</td>\n",
       "      <td>-0.649617</td>\n",
       "      <td>1.577006</td>\n",
       "      <td>-0.414650</td>\n",
       "      <td>0.486180</td>\n",
       "      <td>...</td>\n",
       "      <td>0.261057</td>\n",
       "      <td>0.643078</td>\n",
       "      <td>0.376777</td>\n",
       "      <td>0.008797</td>\n",
       "      <td>-0.473649</td>\n",
       "      <td>-0.818267</td>\n",
       "      <td>-0.002415</td>\n",
       "      <td>0.013649</td>\n",
       "      <td>217.00</td>\n",
       "      <td>0</td>\n",
       "    </tr>\n",
       "  </tbody>\n",
       "</table>\n",
       "<p>5 rows × 31 columns</p>\n",
       "</div>"
      ],
      "text/plain": [
       "            Time         V1         V2        V3        V4        V5  \\\n",
       "284802  172786.0 -11.881118  10.071785 -9.834783 -2.066656 -5.364473   \n",
       "284803  172787.0  -0.732789  -0.055080  2.035030 -0.738589  0.868229   \n",
       "284804  172788.0   1.919565  -0.301254 -3.249640 -0.557828  2.630515   \n",
       "284805  172788.0  -0.240440   0.530483  0.702510  0.689799 -0.377961   \n",
       "284806  172792.0  -0.533413  -0.189733  0.703337 -0.506271 -0.012546   \n",
       "\n",
       "              V6        V7        V8        V9  ...       V21       V22  \\\n",
       "284802 -2.606837 -4.918215  7.305334  1.914428  ...  0.213454  0.111864   \n",
       "284803  1.058415  0.024330  0.294869  0.584800  ...  0.214205  0.924384   \n",
       "284804  3.031260 -0.296827  0.708417  0.432454  ...  0.232045  0.578229   \n",
       "284805  0.623708 -0.686180  0.679145  0.392087  ...  0.265245  0.800049   \n",
       "284806 -0.649617  1.577006 -0.414650  0.486180  ...  0.261057  0.643078   \n",
       "\n",
       "             V23       V24       V25       V26       V27       V28  Amount  \\\n",
       "284802  1.014480 -0.509348  1.436807  0.250034  0.943651  0.823731    0.77   \n",
       "284803  0.012463 -1.016226 -0.606624 -0.395255  0.068472 -0.053527   24.79   \n",
       "284804 -0.037501  0.640134  0.265745 -0.087371  0.004455 -0.026561   67.88   \n",
       "284805 -0.163298  0.123205 -0.569159  0.546668  0.108821  0.104533   10.00   \n",
       "284806  0.376777  0.008797 -0.473649 -0.818267 -0.002415  0.013649  217.00   \n",
       "\n",
       "        Class  \n",
       "284802      0  \n",
       "284803      0  \n",
       "284804      0  \n",
       "284805      0  \n",
       "284806      0  \n",
       "\n",
       "[5 rows x 31 columns]"
      ]
     },
     "execution_count": 4,
     "metadata": {},
     "output_type": "execute_result"
    }
   ],
   "source": [
    "df.tail()"
   ]
  },
  {
   "cell_type": "code",
   "execution_count": 5,
   "id": "e8e9cac9",
   "metadata": {
    "execution": {
     "iopub.execute_input": "2024-02-14T16:24:59.188465Z",
     "iopub.status.busy": "2024-02-14T16:24:59.188103Z",
     "iopub.status.idle": "2024-02-14T16:24:59.228887Z",
     "shell.execute_reply": "2024-02-14T16:24:59.227763Z"
    },
    "papermill": {
     "duration": 0.05732,
     "end_time": "2024-02-14T16:24:59.232134",
     "exception": false,
     "start_time": "2024-02-14T16:24:59.174814",
     "status": "completed"
    },
    "tags": []
   },
   "outputs": [
    {
     "name": "stdout",
     "output_type": "stream",
     "text": [
      "<class 'pandas.core.frame.DataFrame'>\n",
      "RangeIndex: 284807 entries, 0 to 284806\n",
      "Data columns (total 31 columns):\n",
      " #   Column  Non-Null Count   Dtype  \n",
      "---  ------  --------------   -----  \n",
      " 0   Time    284807 non-null  float64\n",
      " 1   V1      284807 non-null  float64\n",
      " 2   V2      284807 non-null  float64\n",
      " 3   V3      284807 non-null  float64\n",
      " 4   V4      284807 non-null  float64\n",
      " 5   V5      284807 non-null  float64\n",
      " 6   V6      284807 non-null  float64\n",
      " 7   V7      284807 non-null  float64\n",
      " 8   V8      284807 non-null  float64\n",
      " 9   V9      284807 non-null  float64\n",
      " 10  V10     284807 non-null  float64\n",
      " 11  V11     284807 non-null  float64\n",
      " 12  V12     284807 non-null  float64\n",
      " 13  V13     284807 non-null  float64\n",
      " 14  V14     284807 non-null  float64\n",
      " 15  V15     284807 non-null  float64\n",
      " 16  V16     284807 non-null  float64\n",
      " 17  V17     284807 non-null  float64\n",
      " 18  V18     284807 non-null  float64\n",
      " 19  V19     284807 non-null  float64\n",
      " 20  V20     284807 non-null  float64\n",
      " 21  V21     284807 non-null  float64\n",
      " 22  V22     284807 non-null  float64\n",
      " 23  V23     284807 non-null  float64\n",
      " 24  V24     284807 non-null  float64\n",
      " 25  V25     284807 non-null  float64\n",
      " 26  V26     284807 non-null  float64\n",
      " 27  V27     284807 non-null  float64\n",
      " 28  V28     284807 non-null  float64\n",
      " 29  Amount  284807 non-null  float64\n",
      " 30  Class   284807 non-null  int64  \n",
      "dtypes: float64(30), int64(1)\n",
      "memory usage: 67.4 MB\n"
     ]
    }
   ],
   "source": [
    "#imformation about the dataset\n",
    "df.info()"
   ]
  },
  {
   "cell_type": "code",
   "execution_count": 6,
   "id": "0e67e1fc",
   "metadata": {
    "execution": {
     "iopub.execute_input": "2024-02-14T16:24:59.258748Z",
     "iopub.status.busy": "2024-02-14T16:24:59.258335Z",
     "iopub.status.idle": "2024-02-14T16:24:59.279025Z",
     "shell.execute_reply": "2024-02-14T16:24:59.277886Z"
    },
    "papermill": {
     "duration": 0.036193,
     "end_time": "2024-02-14T16:24:59.281233",
     "exception": false,
     "start_time": "2024-02-14T16:24:59.245040",
     "status": "completed"
    },
    "tags": []
   },
   "outputs": [
    {
     "data": {
      "text/plain": [
       "Time      0\n",
       "V1        0\n",
       "V2        0\n",
       "V3        0\n",
       "V4        0\n",
       "V5        0\n",
       "V6        0\n",
       "V7        0\n",
       "V8        0\n",
       "V9        0\n",
       "V10       0\n",
       "V11       0\n",
       "V12       0\n",
       "V13       0\n",
       "V14       0\n",
       "V15       0\n",
       "V16       0\n",
       "V17       0\n",
       "V18       0\n",
       "V19       0\n",
       "V20       0\n",
       "V21       0\n",
       "V22       0\n",
       "V23       0\n",
       "V24       0\n",
       "V25       0\n",
       "V26       0\n",
       "V27       0\n",
       "V28       0\n",
       "Amount    0\n",
       "Class     0\n",
       "dtype: int64"
      ]
     },
     "execution_count": 6,
     "metadata": {},
     "output_type": "execute_result"
    }
   ],
   "source": [
    "#checking the number of missing values in each column\n",
    "df.isnull().sum()"
   ]
  },
  {
   "cell_type": "code",
   "execution_count": 7,
   "id": "ec2a0bf8",
   "metadata": {
    "execution": {
     "iopub.execute_input": "2024-02-14T16:24:59.307009Z",
     "iopub.status.busy": "2024-02-14T16:24:59.306591Z",
     "iopub.status.idle": "2024-02-14T16:24:59.320431Z",
     "shell.execute_reply": "2024-02-14T16:24:59.319313Z"
    },
    "papermill": {
     "duration": 0.02949,
     "end_time": "2024-02-14T16:24:59.322848",
     "exception": false,
     "start_time": "2024-02-14T16:24:59.293358",
     "status": "completed"
    },
    "tags": []
   },
   "outputs": [
    {
     "data": {
      "text/plain": [
       "Class\n",
       "0    284315\n",
       "1       492\n",
       "Name: count, dtype: int64"
      ]
     },
     "execution_count": 7,
     "metadata": {},
     "output_type": "execute_result"
    }
   ],
   "source": [
    "#distribution of legit transaction and fraudlent transaction\n",
    "df['Class'].value_counts()"
   ]
  },
  {
   "cell_type": "code",
   "execution_count": 8,
   "id": "a602b651",
   "metadata": {
    "execution": {
     "iopub.execute_input": "2024-02-14T16:24:59.349370Z",
     "iopub.status.busy": "2024-02-14T16:24:59.348994Z",
     "iopub.status.idle": "2024-02-14T16:24:59.394258Z",
     "shell.execute_reply": "2024-02-14T16:24:59.393183Z"
    },
    "papermill": {
     "duration": 0.06178,
     "end_time": "2024-02-14T16:24:59.397045",
     "exception": false,
     "start_time": "2024-02-14T16:24:59.335265",
     "status": "completed"
    },
    "tags": []
   },
   "outputs": [],
   "source": [
    "#seperating the data for analysis\n",
    "legit = df[df.Class == 0]\n",
    "fraud = df[df.Class == 1]"
   ]
  },
  {
   "cell_type": "code",
   "execution_count": 9,
   "id": "79cf1437",
   "metadata": {
    "execution": {
     "iopub.execute_input": "2024-02-14T16:24:59.424474Z",
     "iopub.status.busy": "2024-02-14T16:24:59.423421Z",
     "iopub.status.idle": "2024-02-14T16:24:59.448260Z",
     "shell.execute_reply": "2024-02-14T16:24:59.447465Z"
    },
    "papermill": {
     "duration": 0.040817,
     "end_time": "2024-02-14T16:24:59.450388",
     "exception": false,
     "start_time": "2024-02-14T16:24:59.409571",
     "status": "completed"
    },
    "tags": []
   },
   "outputs": [
    {
     "data": {
      "text/plain": [
       "count    284315.000000\n",
       "mean         88.291022\n",
       "std         250.105092\n",
       "min           0.000000\n",
       "25%           5.650000\n",
       "50%          22.000000\n",
       "75%          77.050000\n",
       "max       25691.160000\n",
       "Name: Amount, dtype: float64"
      ]
     },
     "execution_count": 9,
     "metadata": {},
     "output_type": "execute_result"
    }
   ],
   "source": [
    "#statistical measures of the data\n",
    "legit.Amount.describe()"
   ]
  },
  {
   "cell_type": "code",
   "execution_count": 10,
   "id": "957aef12",
   "metadata": {
    "execution": {
     "iopub.execute_input": "2024-02-14T16:24:59.477609Z",
     "iopub.status.busy": "2024-02-14T16:24:59.476669Z",
     "iopub.status.idle": "2024-02-14T16:24:59.485989Z",
     "shell.execute_reply": "2024-02-14T16:24:59.485237Z"
    },
    "papermill": {
     "duration": 0.025034,
     "end_time": "2024-02-14T16:24:59.488021",
     "exception": false,
     "start_time": "2024-02-14T16:24:59.462987",
     "status": "completed"
    },
    "tags": []
   },
   "outputs": [
    {
     "data": {
      "text/plain": [
       "count     492.000000\n",
       "mean      122.211321\n",
       "std       256.683288\n",
       "min         0.000000\n",
       "25%         1.000000\n",
       "50%         9.250000\n",
       "75%       105.890000\n",
       "max      2125.870000\n",
       "Name: Amount, dtype: float64"
      ]
     },
     "execution_count": 10,
     "metadata": {},
     "output_type": "execute_result"
    }
   ],
   "source": [
    "fraud.Amount.describe()"
   ]
  },
  {
   "cell_type": "code",
   "execution_count": 11,
   "id": "e901f77a",
   "metadata": {
    "execution": {
     "iopub.execute_input": "2024-02-14T16:24:59.515731Z",
     "iopub.status.busy": "2024-02-14T16:24:59.514937Z",
     "iopub.status.idle": "2024-02-14T16:24:59.649128Z",
     "shell.execute_reply": "2024-02-14T16:24:59.647911Z"
    },
    "papermill": {
     "duration": 0.150774,
     "end_time": "2024-02-14T16:24:59.651662",
     "exception": false,
     "start_time": "2024-02-14T16:24:59.500888",
     "status": "completed"
    },
    "tags": []
   },
   "outputs": [
    {
     "data": {
      "text/html": [
       "<div>\n",
       "<style scoped>\n",
       "    .dataframe tbody tr th:only-of-type {\n",
       "        vertical-align: middle;\n",
       "    }\n",
       "\n",
       "    .dataframe tbody tr th {\n",
       "        vertical-align: top;\n",
       "    }\n",
       "\n",
       "    .dataframe thead th {\n",
       "        text-align: right;\n",
       "    }\n",
       "</style>\n",
       "<table border=\"1\" class=\"dataframe\">\n",
       "  <thead>\n",
       "    <tr style=\"text-align: right;\">\n",
       "      <th></th>\n",
       "      <th>Time</th>\n",
       "      <th>V1</th>\n",
       "      <th>V2</th>\n",
       "      <th>V3</th>\n",
       "      <th>V4</th>\n",
       "      <th>V5</th>\n",
       "      <th>V6</th>\n",
       "      <th>V7</th>\n",
       "      <th>V8</th>\n",
       "      <th>V9</th>\n",
       "      <th>...</th>\n",
       "      <th>V20</th>\n",
       "      <th>V21</th>\n",
       "      <th>V22</th>\n",
       "      <th>V23</th>\n",
       "      <th>V24</th>\n",
       "      <th>V25</th>\n",
       "      <th>V26</th>\n",
       "      <th>V27</th>\n",
       "      <th>V28</th>\n",
       "      <th>Amount</th>\n",
       "    </tr>\n",
       "    <tr>\n",
       "      <th>Class</th>\n",
       "      <th></th>\n",
       "      <th></th>\n",
       "      <th></th>\n",
       "      <th></th>\n",
       "      <th></th>\n",
       "      <th></th>\n",
       "      <th></th>\n",
       "      <th></th>\n",
       "      <th></th>\n",
       "      <th></th>\n",
       "      <th></th>\n",
       "      <th></th>\n",
       "      <th></th>\n",
       "      <th></th>\n",
       "      <th></th>\n",
       "      <th></th>\n",
       "      <th></th>\n",
       "      <th></th>\n",
       "      <th></th>\n",
       "      <th></th>\n",
       "      <th></th>\n",
       "    </tr>\n",
       "  </thead>\n",
       "  <tbody>\n",
       "    <tr>\n",
       "      <th>0</th>\n",
       "      <td>94838.202258</td>\n",
       "      <td>0.008258</td>\n",
       "      <td>-0.006271</td>\n",
       "      <td>0.012171</td>\n",
       "      <td>-0.007860</td>\n",
       "      <td>0.005453</td>\n",
       "      <td>0.002419</td>\n",
       "      <td>0.009637</td>\n",
       "      <td>-0.000987</td>\n",
       "      <td>0.004467</td>\n",
       "      <td>...</td>\n",
       "      <td>-0.000644</td>\n",
       "      <td>-0.001235</td>\n",
       "      <td>-0.000024</td>\n",
       "      <td>0.000070</td>\n",
       "      <td>0.000182</td>\n",
       "      <td>-0.000072</td>\n",
       "      <td>-0.000089</td>\n",
       "      <td>-0.000295</td>\n",
       "      <td>-0.000131</td>\n",
       "      <td>88.291022</td>\n",
       "    </tr>\n",
       "    <tr>\n",
       "      <th>1</th>\n",
       "      <td>80746.806911</td>\n",
       "      <td>-4.771948</td>\n",
       "      <td>3.623778</td>\n",
       "      <td>-7.033281</td>\n",
       "      <td>4.542029</td>\n",
       "      <td>-3.151225</td>\n",
       "      <td>-1.397737</td>\n",
       "      <td>-5.568731</td>\n",
       "      <td>0.570636</td>\n",
       "      <td>-2.581123</td>\n",
       "      <td>...</td>\n",
       "      <td>0.372319</td>\n",
       "      <td>0.713588</td>\n",
       "      <td>0.014049</td>\n",
       "      <td>-0.040308</td>\n",
       "      <td>-0.105130</td>\n",
       "      <td>0.041449</td>\n",
       "      <td>0.051648</td>\n",
       "      <td>0.170575</td>\n",
       "      <td>0.075667</td>\n",
       "      <td>122.211321</td>\n",
       "    </tr>\n",
       "  </tbody>\n",
       "</table>\n",
       "<p>2 rows × 30 columns</p>\n",
       "</div>"
      ],
      "text/plain": [
       "               Time        V1        V2        V3        V4        V5  \\\n",
       "Class                                                                   \n",
       "0      94838.202258  0.008258 -0.006271  0.012171 -0.007860  0.005453   \n",
       "1      80746.806911 -4.771948  3.623778 -7.033281  4.542029 -3.151225   \n",
       "\n",
       "             V6        V7        V8        V9  ...       V20       V21  \\\n",
       "Class                                          ...                       \n",
       "0      0.002419  0.009637 -0.000987  0.004467  ... -0.000644 -0.001235   \n",
       "1     -1.397737 -5.568731  0.570636 -2.581123  ...  0.372319  0.713588   \n",
       "\n",
       "            V22       V23       V24       V25       V26       V27       V28  \\\n",
       "Class                                                                         \n",
       "0     -0.000024  0.000070  0.000182 -0.000072 -0.000089 -0.000295 -0.000131   \n",
       "1      0.014049 -0.040308 -0.105130  0.041449  0.051648  0.170575  0.075667   \n",
       "\n",
       "           Amount  \n",
       "Class              \n",
       "0       88.291022  \n",
       "1      122.211321  \n",
       "\n",
       "[2 rows x 30 columns]"
      ]
     },
     "execution_count": 11,
     "metadata": {},
     "output_type": "execute_result"
    }
   ],
   "source": [
    "df.groupby('Class').mean()"
   ]
  },
  {
   "cell_type": "code",
   "execution_count": 12,
   "id": "048a9801",
   "metadata": {
    "execution": {
     "iopub.execute_input": "2024-02-14T16:24:59.679658Z",
     "iopub.status.busy": "2024-02-14T16:24:59.679290Z",
     "iopub.status.idle": "2024-02-14T16:24:59.692802Z",
     "shell.execute_reply": "2024-02-14T16:24:59.691913Z"
    },
    "papermill": {
     "duration": 0.03056,
     "end_time": "2024-02-14T16:24:59.695197",
     "exception": false,
     "start_time": "2024-02-14T16:24:59.664637",
     "status": "completed"
    },
    "tags": []
   },
   "outputs": [],
   "source": [
    "legit_df = legit.sample(n=492)"
   ]
  },
  {
   "cell_type": "markdown",
   "id": "bdac5579",
   "metadata": {
    "papermill": {
     "duration": 0.012525,
     "end_time": "2024-02-14T16:24:59.720649",
     "exception": false,
     "start_time": "2024-02-14T16:24:59.708124",
     "status": "completed"
    },
    "tags": []
   },
   "source": [
    "# **Concatenating legit and fraud datasets**"
   ]
  },
  {
   "cell_type": "code",
   "execution_count": 13,
   "id": "14c21218",
   "metadata": {
    "execution": {
     "iopub.execute_input": "2024-02-14T16:24:59.748444Z",
     "iopub.status.busy": "2024-02-14T16:24:59.747486Z",
     "iopub.status.idle": "2024-02-14T16:24:59.752704Z",
     "shell.execute_reply": "2024-02-14T16:24:59.751968Z"
    },
    "papermill": {
     "duration": 0.021224,
     "end_time": "2024-02-14T16:24:59.754750",
     "exception": false,
     "start_time": "2024-02-14T16:24:59.733526",
     "status": "completed"
    },
    "tags": []
   },
   "outputs": [],
   "source": [
    "new_df = pd.concat([legit_df, fraud], axis=0)"
   ]
  },
  {
   "cell_type": "code",
   "execution_count": 14,
   "id": "3d4a365f",
   "metadata": {
    "execution": {
     "iopub.execute_input": "2024-02-14T16:24:59.783010Z",
     "iopub.status.busy": "2024-02-14T16:24:59.782203Z",
     "iopub.status.idle": "2024-02-14T16:24:59.807129Z",
     "shell.execute_reply": "2024-02-14T16:24:59.806329Z"
    },
    "papermill": {
     "duration": 0.041051,
     "end_time": "2024-02-14T16:24:59.809177",
     "exception": false,
     "start_time": "2024-02-14T16:24:59.768126",
     "status": "completed"
    },
    "tags": []
   },
   "outputs": [
    {
     "data": {
      "text/html": [
       "<div>\n",
       "<style scoped>\n",
       "    .dataframe tbody tr th:only-of-type {\n",
       "        vertical-align: middle;\n",
       "    }\n",
       "\n",
       "    .dataframe tbody tr th {\n",
       "        vertical-align: top;\n",
       "    }\n",
       "\n",
       "    .dataframe thead th {\n",
       "        text-align: right;\n",
       "    }\n",
       "</style>\n",
       "<table border=\"1\" class=\"dataframe\">\n",
       "  <thead>\n",
       "    <tr style=\"text-align: right;\">\n",
       "      <th></th>\n",
       "      <th>Time</th>\n",
       "      <th>V1</th>\n",
       "      <th>V2</th>\n",
       "      <th>V3</th>\n",
       "      <th>V4</th>\n",
       "      <th>V5</th>\n",
       "      <th>V6</th>\n",
       "      <th>V7</th>\n",
       "      <th>V8</th>\n",
       "      <th>V9</th>\n",
       "      <th>...</th>\n",
       "      <th>V21</th>\n",
       "      <th>V22</th>\n",
       "      <th>V23</th>\n",
       "      <th>V24</th>\n",
       "      <th>V25</th>\n",
       "      <th>V26</th>\n",
       "      <th>V27</th>\n",
       "      <th>V28</th>\n",
       "      <th>Amount</th>\n",
       "      <th>Class</th>\n",
       "    </tr>\n",
       "  </thead>\n",
       "  <tbody>\n",
       "    <tr>\n",
       "      <th>188683</th>\n",
       "      <td>128084.0</td>\n",
       "      <td>-0.987732</td>\n",
       "      <td>0.829048</td>\n",
       "      <td>-0.278654</td>\n",
       "      <td>-0.658676</td>\n",
       "      <td>0.718651</td>\n",
       "      <td>-0.724522</td>\n",
       "      <td>0.639614</td>\n",
       "      <td>0.405337</td>\n",
       "      <td>0.034758</td>\n",
       "      <td>...</td>\n",
       "      <td>-0.123534</td>\n",
       "      <td>-0.578908</td>\n",
       "      <td>-0.098380</td>\n",
       "      <td>0.430990</td>\n",
       "      <td>0.121634</td>\n",
       "      <td>-0.110285</td>\n",
       "      <td>-0.039287</td>\n",
       "      <td>0.052682</td>\n",
       "      <td>50.00</td>\n",
       "      <td>0</td>\n",
       "    </tr>\n",
       "    <tr>\n",
       "      <th>157096</th>\n",
       "      <td>109503.0</td>\n",
       "      <td>2.062864</td>\n",
       "      <td>0.096229</td>\n",
       "      <td>-0.940681</td>\n",
       "      <td>0.589835</td>\n",
       "      <td>0.049870</td>\n",
       "      <td>-1.027793</td>\n",
       "      <td>0.115431</td>\n",
       "      <td>-0.418763</td>\n",
       "      <td>1.740015</td>\n",
       "      <td>...</td>\n",
       "      <td>-0.432004</td>\n",
       "      <td>-0.825823</td>\n",
       "      <td>0.343323</td>\n",
       "      <td>-0.128595</td>\n",
       "      <td>-0.306905</td>\n",
       "      <td>0.164898</td>\n",
       "      <td>-0.090411</td>\n",
       "      <td>-0.066438</td>\n",
       "      <td>1.29</td>\n",
       "      <td>0</td>\n",
       "    </tr>\n",
       "    <tr>\n",
       "      <th>100628</th>\n",
       "      <td>67572.0</td>\n",
       "      <td>1.243984</td>\n",
       "      <td>-1.165503</td>\n",
       "      <td>1.731280</td>\n",
       "      <td>-0.135629</td>\n",
       "      <td>-2.052927</td>\n",
       "      <td>0.376860</td>\n",
       "      <td>-1.709618</td>\n",
       "      <td>0.409062</td>\n",
       "      <td>0.871609</td>\n",
       "      <td>...</td>\n",
       "      <td>0.174064</td>\n",
       "      <td>0.837624</td>\n",
       "      <td>-0.006126</td>\n",
       "      <td>0.449389</td>\n",
       "      <td>0.322155</td>\n",
       "      <td>-0.032313</td>\n",
       "      <td>0.095051</td>\n",
       "      <td>0.024548</td>\n",
       "      <td>4.00</td>\n",
       "      <td>0</td>\n",
       "    </tr>\n",
       "    <tr>\n",
       "      <th>97072</th>\n",
       "      <td>66063.0</td>\n",
       "      <td>1.359847</td>\n",
       "      <td>-0.594807</td>\n",
       "      <td>1.010821</td>\n",
       "      <td>-0.634169</td>\n",
       "      <td>-1.411803</td>\n",
       "      <td>-0.698280</td>\n",
       "      <td>-0.932780</td>\n",
       "      <td>-0.134695</td>\n",
       "      <td>-0.581270</td>\n",
       "      <td>...</td>\n",
       "      <td>0.400186</td>\n",
       "      <td>1.151507</td>\n",
       "      <td>-0.123543</td>\n",
       "      <td>0.474852</td>\n",
       "      <td>0.465042</td>\n",
       "      <td>-0.054629</td>\n",
       "      <td>0.043874</td>\n",
       "      <td>0.029939</td>\n",
       "      <td>19.99</td>\n",
       "      <td>0</td>\n",
       "    </tr>\n",
       "    <tr>\n",
       "      <th>75144</th>\n",
       "      <td>55917.0</td>\n",
       "      <td>1.188102</td>\n",
       "      <td>0.222654</td>\n",
       "      <td>0.622942</td>\n",
       "      <td>0.553774</td>\n",
       "      <td>-0.477231</td>\n",
       "      <td>-0.768223</td>\n",
       "      <td>0.014001</td>\n",
       "      <td>-0.107278</td>\n",
       "      <td>-0.319178</td>\n",
       "      <td>...</td>\n",
       "      <td>-0.180698</td>\n",
       "      <td>-0.550039</td>\n",
       "      <td>0.135206</td>\n",
       "      <td>0.546960</td>\n",
       "      <td>0.177183</td>\n",
       "      <td>0.061637</td>\n",
       "      <td>-0.030237</td>\n",
       "      <td>0.013565</td>\n",
       "      <td>9.72</td>\n",
       "      <td>0</td>\n",
       "    </tr>\n",
       "  </tbody>\n",
       "</table>\n",
       "<p>5 rows × 31 columns</p>\n",
       "</div>"
      ],
      "text/plain": [
       "            Time        V1        V2        V3        V4        V5        V6  \\\n",
       "188683  128084.0 -0.987732  0.829048 -0.278654 -0.658676  0.718651 -0.724522   \n",
       "157096  109503.0  2.062864  0.096229 -0.940681  0.589835  0.049870 -1.027793   \n",
       "100628   67572.0  1.243984 -1.165503  1.731280 -0.135629 -2.052927  0.376860   \n",
       "97072    66063.0  1.359847 -0.594807  1.010821 -0.634169 -1.411803 -0.698280   \n",
       "75144    55917.0  1.188102  0.222654  0.622942  0.553774 -0.477231 -0.768223   \n",
       "\n",
       "              V7        V8        V9  ...       V21       V22       V23  \\\n",
       "188683  0.639614  0.405337  0.034758  ... -0.123534 -0.578908 -0.098380   \n",
       "157096  0.115431 -0.418763  1.740015  ... -0.432004 -0.825823  0.343323   \n",
       "100628 -1.709618  0.409062  0.871609  ...  0.174064  0.837624 -0.006126   \n",
       "97072  -0.932780 -0.134695 -0.581270  ...  0.400186  1.151507 -0.123543   \n",
       "75144   0.014001 -0.107278 -0.319178  ... -0.180698 -0.550039  0.135206   \n",
       "\n",
       "             V24       V25       V26       V27       V28  Amount  Class  \n",
       "188683  0.430990  0.121634 -0.110285 -0.039287  0.052682   50.00      0  \n",
       "157096 -0.128595 -0.306905  0.164898 -0.090411 -0.066438    1.29      0  \n",
       "100628  0.449389  0.322155 -0.032313  0.095051  0.024548    4.00      0  \n",
       "97072   0.474852  0.465042 -0.054629  0.043874  0.029939   19.99      0  \n",
       "75144   0.546960  0.177183  0.061637 -0.030237  0.013565    9.72      0  \n",
       "\n",
       "[5 rows x 31 columns]"
      ]
     },
     "execution_count": 14,
     "metadata": {},
     "output_type": "execute_result"
    }
   ],
   "source": [
    "new_df.head()"
   ]
  },
  {
   "cell_type": "code",
   "execution_count": 15,
   "id": "e8aac6cf",
   "metadata": {
    "execution": {
     "iopub.execute_input": "2024-02-14T16:24:59.837605Z",
     "iopub.status.busy": "2024-02-14T16:24:59.836704Z",
     "iopub.status.idle": "2024-02-14T16:24:59.843716Z",
     "shell.execute_reply": "2024-02-14T16:24:59.843000Z"
    },
    "papermill": {
     "duration": 0.023741,
     "end_time": "2024-02-14T16:24:59.846140",
     "exception": false,
     "start_time": "2024-02-14T16:24:59.822399",
     "status": "completed"
    },
    "tags": []
   },
   "outputs": [
    {
     "data": {
      "text/plain": [
       "Class\n",
       "0    492\n",
       "1    492\n",
       "Name: count, dtype: int64"
      ]
     },
     "execution_count": 15,
     "metadata": {},
     "output_type": "execute_result"
    }
   ],
   "source": [
    "new_df['Class'].value_counts()"
   ]
  },
  {
   "cell_type": "code",
   "execution_count": 16,
   "id": "9e3fded7",
   "metadata": {
    "execution": {
     "iopub.execute_input": "2024-02-14T16:24:59.874638Z",
     "iopub.status.busy": "2024-02-14T16:24:59.874307Z",
     "iopub.status.idle": "2024-02-14T16:24:59.897092Z",
     "shell.execute_reply": "2024-02-14T16:24:59.896242Z"
    },
    "papermill": {
     "duration": 0.039233,
     "end_time": "2024-02-14T16:24:59.899150",
     "exception": false,
     "start_time": "2024-02-14T16:24:59.859917",
     "status": "completed"
    },
    "tags": []
   },
   "outputs": [
    {
     "data": {
      "text/html": [
       "<div>\n",
       "<style scoped>\n",
       "    .dataframe tbody tr th:only-of-type {\n",
       "        vertical-align: middle;\n",
       "    }\n",
       "\n",
       "    .dataframe tbody tr th {\n",
       "        vertical-align: top;\n",
       "    }\n",
       "\n",
       "    .dataframe thead th {\n",
       "        text-align: right;\n",
       "    }\n",
       "</style>\n",
       "<table border=\"1\" class=\"dataframe\">\n",
       "  <thead>\n",
       "    <tr style=\"text-align: right;\">\n",
       "      <th></th>\n",
       "      <th>Time</th>\n",
       "      <th>V1</th>\n",
       "      <th>V2</th>\n",
       "      <th>V3</th>\n",
       "      <th>V4</th>\n",
       "      <th>V5</th>\n",
       "      <th>V6</th>\n",
       "      <th>V7</th>\n",
       "      <th>V8</th>\n",
       "      <th>V9</th>\n",
       "      <th>...</th>\n",
       "      <th>V20</th>\n",
       "      <th>V21</th>\n",
       "      <th>V22</th>\n",
       "      <th>V23</th>\n",
       "      <th>V24</th>\n",
       "      <th>V25</th>\n",
       "      <th>V26</th>\n",
       "      <th>V27</th>\n",
       "      <th>V28</th>\n",
       "      <th>Amount</th>\n",
       "    </tr>\n",
       "    <tr>\n",
       "      <th>Class</th>\n",
       "      <th></th>\n",
       "      <th></th>\n",
       "      <th></th>\n",
       "      <th></th>\n",
       "      <th></th>\n",
       "      <th></th>\n",
       "      <th></th>\n",
       "      <th></th>\n",
       "      <th></th>\n",
       "      <th></th>\n",
       "      <th></th>\n",
       "      <th></th>\n",
       "      <th></th>\n",
       "      <th></th>\n",
       "      <th></th>\n",
       "      <th></th>\n",
       "      <th></th>\n",
       "      <th></th>\n",
       "      <th></th>\n",
       "      <th></th>\n",
       "      <th></th>\n",
       "    </tr>\n",
       "  </thead>\n",
       "  <tbody>\n",
       "    <tr>\n",
       "      <th>0</th>\n",
       "      <td>93677.166667</td>\n",
       "      <td>-0.073528</td>\n",
       "      <td>0.163866</td>\n",
       "      <td>-0.050428</td>\n",
       "      <td>0.079412</td>\n",
       "      <td>0.013158</td>\n",
       "      <td>-0.020085</td>\n",
       "      <td>0.056366</td>\n",
       "      <td>0.061261</td>\n",
       "      <td>0.019810</td>\n",
       "      <td>...</td>\n",
       "      <td>0.061573</td>\n",
       "      <td>0.032261</td>\n",
       "      <td>0.017313</td>\n",
       "      <td>-0.018267</td>\n",
       "      <td>0.021801</td>\n",
       "      <td>-0.030852</td>\n",
       "      <td>0.014278</td>\n",
       "      <td>-0.018965</td>\n",
       "      <td>-0.014213</td>\n",
       "      <td>89.507520</td>\n",
       "    </tr>\n",
       "    <tr>\n",
       "      <th>1</th>\n",
       "      <td>80746.806911</td>\n",
       "      <td>-4.771948</td>\n",
       "      <td>3.623778</td>\n",
       "      <td>-7.033281</td>\n",
       "      <td>4.542029</td>\n",
       "      <td>-3.151225</td>\n",
       "      <td>-1.397737</td>\n",
       "      <td>-5.568731</td>\n",
       "      <td>0.570636</td>\n",
       "      <td>-2.581123</td>\n",
       "      <td>...</td>\n",
       "      <td>0.372319</td>\n",
       "      <td>0.713588</td>\n",
       "      <td>0.014049</td>\n",
       "      <td>-0.040308</td>\n",
       "      <td>-0.105130</td>\n",
       "      <td>0.041449</td>\n",
       "      <td>0.051648</td>\n",
       "      <td>0.170575</td>\n",
       "      <td>0.075667</td>\n",
       "      <td>122.211321</td>\n",
       "    </tr>\n",
       "  </tbody>\n",
       "</table>\n",
       "<p>2 rows × 30 columns</p>\n",
       "</div>"
      ],
      "text/plain": [
       "               Time        V1        V2        V3        V4        V5  \\\n",
       "Class                                                                   \n",
       "0      93677.166667 -0.073528  0.163866 -0.050428  0.079412  0.013158   \n",
       "1      80746.806911 -4.771948  3.623778 -7.033281  4.542029 -3.151225   \n",
       "\n",
       "             V6        V7        V8        V9  ...       V20       V21  \\\n",
       "Class                                          ...                       \n",
       "0     -0.020085  0.056366  0.061261  0.019810  ...  0.061573  0.032261   \n",
       "1     -1.397737 -5.568731  0.570636 -2.581123  ...  0.372319  0.713588   \n",
       "\n",
       "            V22       V23       V24       V25       V26       V27       V28  \\\n",
       "Class                                                                         \n",
       "0      0.017313 -0.018267  0.021801 -0.030852  0.014278 -0.018965 -0.014213   \n",
       "1      0.014049 -0.040308 -0.105130  0.041449  0.051648  0.170575  0.075667   \n",
       "\n",
       "           Amount  \n",
       "Class              \n",
       "0       89.507520  \n",
       "1      122.211321  \n",
       "\n",
       "[2 rows x 30 columns]"
      ]
     },
     "execution_count": 16,
     "metadata": {},
     "output_type": "execute_result"
    }
   ],
   "source": [
    "new_df.groupby('Class').mean()"
   ]
  },
  {
   "cell_type": "markdown",
   "id": "1a5179f3",
   "metadata": {
    "papermill": {
     "duration": 0.013314,
     "end_time": "2024-02-14T16:24:59.926312",
     "exception": false,
     "start_time": "2024-02-14T16:24:59.912998",
     "status": "completed"
    },
    "tags": []
   },
   "source": [
    "# **Splitting the data into Features and Targets**"
   ]
  },
  {
   "cell_type": "code",
   "execution_count": 17,
   "id": "d7f97938",
   "metadata": {
    "execution": {
     "iopub.execute_input": "2024-02-14T16:24:59.956550Z",
     "iopub.status.busy": "2024-02-14T16:24:59.955986Z",
     "iopub.status.idle": "2024-02-14T16:24:59.960723Z",
     "shell.execute_reply": "2024-02-14T16:24:59.960005Z"
    },
    "papermill": {
     "duration": 0.02277,
     "end_time": "2024-02-14T16:24:59.962934",
     "exception": false,
     "start_time": "2024-02-14T16:24:59.940164",
     "status": "completed"
    },
    "tags": []
   },
   "outputs": [],
   "source": [
    "X = new_df.drop(columns='Class', axis=1)\n",
    "y = new_df['Class']"
   ]
  },
  {
   "cell_type": "code",
   "execution_count": 18,
   "id": "f88e04ca",
   "metadata": {
    "execution": {
     "iopub.execute_input": "2024-02-14T16:24:59.992537Z",
     "iopub.status.busy": "2024-02-14T16:24:59.991651Z",
     "iopub.status.idle": "2024-02-14T16:25:00.009539Z",
     "shell.execute_reply": "2024-02-14T16:25:00.007670Z"
    },
    "papermill": {
     "duration": 0.035012,
     "end_time": "2024-02-14T16:25:00.011985",
     "exception": false,
     "start_time": "2024-02-14T16:24:59.976973",
     "status": "completed"
    },
    "tags": []
   },
   "outputs": [
    {
     "name": "stdout",
     "output_type": "stream",
     "text": [
      "            Time        V1        V2        V3        V4        V5        V6  \\\n",
      "188683  128084.0 -0.987732  0.829048 -0.278654 -0.658676  0.718651 -0.724522   \n",
      "157096  109503.0  2.062864  0.096229 -0.940681  0.589835  0.049870 -1.027793   \n",
      "100628   67572.0  1.243984 -1.165503  1.731280 -0.135629 -2.052927  0.376860   \n",
      "97072    66063.0  1.359847 -0.594807  1.010821 -0.634169 -1.411803 -0.698280   \n",
      "75144    55917.0  1.188102  0.222654  0.622942  0.553774 -0.477231 -0.768223   \n",
      "...          ...       ...       ...       ...       ...       ...       ...   \n",
      "279863  169142.0 -1.927883  1.125653 -4.518331  1.749293 -1.566487 -2.010494   \n",
      "280143  169347.0  1.378559  1.289381 -5.004247  1.411850  0.442581 -1.326536   \n",
      "280149  169351.0 -0.676143  1.126366 -2.213700  0.468308 -1.120541 -0.003346   \n",
      "281144  169966.0 -3.113832  0.585864 -5.399730  1.817092 -0.840618 -2.943548   \n",
      "281674  170348.0  1.991976  0.158476 -2.583441  0.408670  1.151147 -0.096695   \n",
      "\n",
      "              V7        V8        V9  ...       V20       V21       V22  \\\n",
      "188683  0.639614  0.405337  0.034758  ... -0.051518 -0.123534 -0.578908   \n",
      "157096  0.115431 -0.418763  1.740015  ... -0.234681 -0.432004 -0.825823   \n",
      "100628 -1.709618  0.409062  0.871609  ... -0.091722  0.174064  0.837624   \n",
      "97072  -0.932780 -0.134695 -0.581270  ...  0.184316  0.400186  1.151507   \n",
      "75144   0.014001 -0.107278 -0.319178  ... -0.034755 -0.180698 -0.550039   \n",
      "...          ...       ...       ...  ...       ...       ...       ...   \n",
      "279863 -0.882850  0.697211 -2.064945  ...  1.252967  0.778584 -0.319189   \n",
      "280143 -1.413170  0.248525 -1.127396  ...  0.226138  0.370612  0.028234   \n",
      "280149 -2.234739  1.210158 -0.652250  ...  0.247968  0.751826  0.834108   \n",
      "281144 -2.208002  1.058733 -1.632333  ...  0.306271  0.583276 -0.269209   \n",
      "281674  0.223050 -0.068384  0.577829  ... -0.017652 -0.164350 -0.295135   \n",
      "\n",
      "             V23       V24       V25       V26       V27       V28  Amount  \n",
      "188683 -0.098380  0.430990  0.121634 -0.110285 -0.039287  0.052682   50.00  \n",
      "157096  0.343323 -0.128595 -0.306905  0.164898 -0.090411 -0.066438    1.29  \n",
      "100628 -0.006126  0.449389  0.322155 -0.032313  0.095051  0.024548    4.00  \n",
      "97072  -0.123543  0.474852  0.465042 -0.054629  0.043874  0.029939   19.99  \n",
      "75144   0.135206  0.546960  0.177183  0.061637 -0.030237  0.013565    9.72  \n",
      "...          ...       ...       ...       ...       ...       ...     ...  \n",
      "279863  0.639419 -0.294885  0.537503  0.788395  0.292680  0.147968  390.00  \n",
      "280143 -0.145640 -0.081049  0.521875  0.739467  0.389152  0.186637    0.76  \n",
      "280149  0.190944  0.032070 -0.739695  0.471111  0.385107  0.194361   77.89  \n",
      "281144 -0.456108 -0.183659 -0.328168  0.606116  0.884876 -0.253700  245.00  \n",
      "281674 -0.072173 -0.450261  0.313267 -0.289617  0.002988 -0.015309   42.53  \n",
      "\n",
      "[984 rows x 30 columns]\n"
     ]
    }
   ],
   "source": [
    "print(X)"
   ]
  },
  {
   "cell_type": "code",
   "execution_count": 19,
   "id": "8bb1d087",
   "metadata": {
    "execution": {
     "iopub.execute_input": "2024-02-14T16:25:00.041696Z",
     "iopub.status.busy": "2024-02-14T16:25:00.041303Z",
     "iopub.status.idle": "2024-02-14T16:25:00.047594Z",
     "shell.execute_reply": "2024-02-14T16:25:00.046483Z"
    },
    "papermill": {
     "duration": 0.024282,
     "end_time": "2024-02-14T16:25:00.050247",
     "exception": false,
     "start_time": "2024-02-14T16:25:00.025965",
     "status": "completed"
    },
    "tags": []
   },
   "outputs": [
    {
     "name": "stdout",
     "output_type": "stream",
     "text": [
      "188683    0\n",
      "157096    0\n",
      "100628    0\n",
      "97072     0\n",
      "75144     0\n",
      "         ..\n",
      "279863    1\n",
      "280143    1\n",
      "280149    1\n",
      "281144    1\n",
      "281674    1\n",
      "Name: Class, Length: 984, dtype: int64\n"
     ]
    }
   ],
   "source": [
    "print(y)"
   ]
  },
  {
   "cell_type": "markdown",
   "id": "312bba5f",
   "metadata": {
    "papermill": {
     "duration": 0.013526,
     "end_time": "2024-02-14T16:25:00.077769",
     "exception": false,
     "start_time": "2024-02-14T16:25:00.064243",
     "status": "completed"
    },
    "tags": []
   },
   "source": [
    "# **Splitting the data into Training data and Testing data**"
   ]
  },
  {
   "cell_type": "code",
   "execution_count": 20,
   "id": "c4807000",
   "metadata": {
    "execution": {
     "iopub.execute_input": "2024-02-14T16:25:00.107496Z",
     "iopub.status.busy": "2024-02-14T16:25:00.107088Z",
     "iopub.status.idle": "2024-02-14T16:25:01.365693Z",
     "shell.execute_reply": "2024-02-14T16:25:01.364303Z"
    },
    "papermill": {
     "duration": 1.276581,
     "end_time": "2024-02-14T16:25:01.368519",
     "exception": false,
     "start_time": "2024-02-14T16:25:00.091938",
     "status": "completed"
    },
    "tags": []
   },
   "outputs": [],
   "source": [
    "from sklearn.model_selection import train_test_split"
   ]
  },
  {
   "cell_type": "code",
   "execution_count": 21,
   "id": "a8093316",
   "metadata": {
    "execution": {
     "iopub.execute_input": "2024-02-14T16:25:01.399811Z",
     "iopub.status.busy": "2024-02-14T16:25:01.398681Z",
     "iopub.status.idle": "2024-02-14T16:25:01.406869Z",
     "shell.execute_reply": "2024-02-14T16:25:01.406072Z"
    },
    "papermill": {
     "duration": 0.025797,
     "end_time": "2024-02-14T16:25:01.409084",
     "exception": false,
     "start_time": "2024-02-14T16:25:01.383287",
     "status": "completed"
    },
    "tags": []
   },
   "outputs": [],
   "source": [
    "X_train, X_test, y_train, y_test = train_test_split(X, y, test_size=0.2, stratify=y)"
   ]
  },
  {
   "cell_type": "code",
   "execution_count": 22,
   "id": "b905482e",
   "metadata": {
    "execution": {
     "iopub.execute_input": "2024-02-14T16:25:01.438822Z",
     "iopub.status.busy": "2024-02-14T16:25:01.438419Z",
     "iopub.status.idle": "2024-02-14T16:25:01.444127Z",
     "shell.execute_reply": "2024-02-14T16:25:01.442998Z"
    },
    "papermill": {
     "duration": 0.023081,
     "end_time": "2024-02-14T16:25:01.446339",
     "exception": false,
     "start_time": "2024-02-14T16:25:01.423258",
     "status": "completed"
    },
    "tags": []
   },
   "outputs": [
    {
     "name": "stdout",
     "output_type": "stream",
     "text": [
      "(787, 30) (197, 30)\n"
     ]
    }
   ],
   "source": [
    "print(X_train.shape, X_test.shape)"
   ]
  },
  {
   "cell_type": "markdown",
   "id": "75334f40",
   "metadata": {
    "papermill": {
     "duration": 0.01371,
     "end_time": "2024-02-14T16:25:01.474093",
     "exception": false,
     "start_time": "2024-02-14T16:25:01.460383",
     "status": "completed"
    },
    "tags": []
   },
   "source": [
    "# **Model Training**"
   ]
  },
  {
   "cell_type": "code",
   "execution_count": 23,
   "id": "348668f3",
   "metadata": {
    "execution": {
     "iopub.execute_input": "2024-02-14T16:25:01.508040Z",
     "iopub.status.busy": "2024-02-14T16:25:01.507018Z",
     "iopub.status.idle": "2024-02-14T16:25:01.606780Z",
     "shell.execute_reply": "2024-02-14T16:25:01.605852Z"
    },
    "papermill": {
     "duration": 0.121313,
     "end_time": "2024-02-14T16:25:01.609500",
     "exception": false,
     "start_time": "2024-02-14T16:25:01.488187",
     "status": "completed"
    },
    "tags": []
   },
   "outputs": [],
   "source": [
    "from sklearn.linear_model import LogisticRegression"
   ]
  },
  {
   "cell_type": "code",
   "execution_count": 24,
   "id": "86576d0f",
   "metadata": {
    "execution": {
     "iopub.execute_input": "2024-02-14T16:25:01.640494Z",
     "iopub.status.busy": "2024-02-14T16:25:01.639521Z",
     "iopub.status.idle": "2024-02-14T16:25:01.644360Z",
     "shell.execute_reply": "2024-02-14T16:25:01.643411Z"
    },
    "papermill": {
     "duration": 0.022268,
     "end_time": "2024-02-14T16:25:01.646414",
     "exception": false,
     "start_time": "2024-02-14T16:25:01.624146",
     "status": "completed"
    },
    "tags": []
   },
   "outputs": [],
   "source": [
    "model = LogisticRegression()"
   ]
  },
  {
   "cell_type": "code",
   "execution_count": 25,
   "id": "56ef6832",
   "metadata": {
    "execution": {
     "iopub.execute_input": "2024-02-14T16:25:01.678170Z",
     "iopub.status.busy": "2024-02-14T16:25:01.676603Z",
     "iopub.status.idle": "2024-02-14T16:25:01.741256Z",
     "shell.execute_reply": "2024-02-14T16:25:01.739737Z"
    },
    "papermill": {
     "duration": 0.084529,
     "end_time": "2024-02-14T16:25:01.745167",
     "exception": false,
     "start_time": "2024-02-14T16:25:01.660638",
     "status": "completed"
    },
    "tags": []
   },
   "outputs": [
    {
     "data": {
      "text/html": [
       "<style>#sk-container-id-1 {color: black;background-color: white;}#sk-container-id-1 pre{padding: 0;}#sk-container-id-1 div.sk-toggleable {background-color: white;}#sk-container-id-1 label.sk-toggleable__label {cursor: pointer;display: block;width: 100%;margin-bottom: 0;padding: 0.3em;box-sizing: border-box;text-align: center;}#sk-container-id-1 label.sk-toggleable__label-arrow:before {content: \"▸\";float: left;margin-right: 0.25em;color: #696969;}#sk-container-id-1 label.sk-toggleable__label-arrow:hover:before {color: black;}#sk-container-id-1 div.sk-estimator:hover label.sk-toggleable__label-arrow:before {color: black;}#sk-container-id-1 div.sk-toggleable__content {max-height: 0;max-width: 0;overflow: hidden;text-align: left;background-color: #f0f8ff;}#sk-container-id-1 div.sk-toggleable__content pre {margin: 0.2em;color: black;border-radius: 0.25em;background-color: #f0f8ff;}#sk-container-id-1 input.sk-toggleable__control:checked~div.sk-toggleable__content {max-height: 200px;max-width: 100%;overflow: auto;}#sk-container-id-1 input.sk-toggleable__control:checked~label.sk-toggleable__label-arrow:before {content: \"▾\";}#sk-container-id-1 div.sk-estimator input.sk-toggleable__control:checked~label.sk-toggleable__label {background-color: #d4ebff;}#sk-container-id-1 div.sk-label input.sk-toggleable__control:checked~label.sk-toggleable__label {background-color: #d4ebff;}#sk-container-id-1 input.sk-hidden--visually {border: 0;clip: rect(1px 1px 1px 1px);clip: rect(1px, 1px, 1px, 1px);height: 1px;margin: -1px;overflow: hidden;padding: 0;position: absolute;width: 1px;}#sk-container-id-1 div.sk-estimator {font-family: monospace;background-color: #f0f8ff;border: 1px dotted black;border-radius: 0.25em;box-sizing: border-box;margin-bottom: 0.5em;}#sk-container-id-1 div.sk-estimator:hover {background-color: #d4ebff;}#sk-container-id-1 div.sk-parallel-item::after {content: \"\";width: 100%;border-bottom: 1px solid gray;flex-grow: 1;}#sk-container-id-1 div.sk-label:hover label.sk-toggleable__label {background-color: #d4ebff;}#sk-container-id-1 div.sk-serial::before {content: \"\";position: absolute;border-left: 1px solid gray;box-sizing: border-box;top: 0;bottom: 0;left: 50%;z-index: 0;}#sk-container-id-1 div.sk-serial {display: flex;flex-direction: column;align-items: center;background-color: white;padding-right: 0.2em;padding-left: 0.2em;position: relative;}#sk-container-id-1 div.sk-item {position: relative;z-index: 1;}#sk-container-id-1 div.sk-parallel {display: flex;align-items: stretch;justify-content: center;background-color: white;position: relative;}#sk-container-id-1 div.sk-item::before, #sk-container-id-1 div.sk-parallel-item::before {content: \"\";position: absolute;border-left: 1px solid gray;box-sizing: border-box;top: 0;bottom: 0;left: 50%;z-index: -1;}#sk-container-id-1 div.sk-parallel-item {display: flex;flex-direction: column;z-index: 1;position: relative;background-color: white;}#sk-container-id-1 div.sk-parallel-item:first-child::after {align-self: flex-end;width: 50%;}#sk-container-id-1 div.sk-parallel-item:last-child::after {align-self: flex-start;width: 50%;}#sk-container-id-1 div.sk-parallel-item:only-child::after {width: 0;}#sk-container-id-1 div.sk-dashed-wrapped {border: 1px dashed gray;margin: 0 0.4em 0.5em 0.4em;box-sizing: border-box;padding-bottom: 0.4em;background-color: white;}#sk-container-id-1 div.sk-label label {font-family: monospace;font-weight: bold;display: inline-block;line-height: 1.2em;}#sk-container-id-1 div.sk-label-container {text-align: center;}#sk-container-id-1 div.sk-container {/* jupyter's `normalize.less` sets `[hidden] { display: none; }` but bootstrap.min.css set `[hidden] { display: none !important; }` so we also need the `!important` here to be able to override the default hidden behavior on the sphinx rendered scikit-learn.org. See: https://github.com/scikit-learn/scikit-learn/issues/21755 */display: inline-block !important;position: relative;}#sk-container-id-1 div.sk-text-repr-fallback {display: none;}</style><div id=\"sk-container-id-1\" class=\"sk-top-container\"><div class=\"sk-text-repr-fallback\"><pre>LogisticRegression()</pre><b>In a Jupyter environment, please rerun this cell to show the HTML representation or trust the notebook. <br />On GitHub, the HTML representation is unable to render, please try loading this page with nbviewer.org.</b></div><div class=\"sk-container\" hidden><div class=\"sk-item\"><div class=\"sk-estimator sk-toggleable\"><input class=\"sk-toggleable__control sk-hidden--visually\" id=\"sk-estimator-id-1\" type=\"checkbox\" checked><label for=\"sk-estimator-id-1\" class=\"sk-toggleable__label sk-toggleable__label-arrow\">LogisticRegression</label><div class=\"sk-toggleable__content\"><pre>LogisticRegression()</pre></div></div></div></div></div>"
      ],
      "text/plain": [
       "LogisticRegression()"
      ]
     },
     "execution_count": 25,
     "metadata": {},
     "output_type": "execute_result"
    }
   ],
   "source": [
    "model.fit(X_train, y_train)"
   ]
  },
  {
   "cell_type": "markdown",
   "id": "6fdbecfe",
   "metadata": {
    "papermill": {
     "duration": 0.030568,
     "end_time": "2024-02-14T16:25:01.807044",
     "exception": false,
     "start_time": "2024-02-14T16:25:01.776476",
     "status": "completed"
    },
    "tags": []
   },
   "source": [
    "# **Model evaluation**"
   ]
  },
  {
   "cell_type": "code",
   "execution_count": 26,
   "id": "4282c357",
   "metadata": {
    "execution": {
     "iopub.execute_input": "2024-02-14T16:25:01.860644Z",
     "iopub.status.busy": "2024-02-14T16:25:01.860266Z",
     "iopub.status.idle": "2024-02-14T16:25:01.864270Z",
     "shell.execute_reply": "2024-02-14T16:25:01.863509Z"
    },
    "papermill": {
     "duration": 0.028698,
     "end_time": "2024-02-14T16:25:01.866274",
     "exception": false,
     "start_time": "2024-02-14T16:25:01.837576",
     "status": "completed"
    },
    "tags": []
   },
   "outputs": [],
   "source": [
    "from sklearn.metrics import accuracy_score"
   ]
  },
  {
   "cell_type": "code",
   "execution_count": 27,
   "id": "7bf665ef",
   "metadata": {
    "execution": {
     "iopub.execute_input": "2024-02-14T16:25:01.897806Z",
     "iopub.status.busy": "2024-02-14T16:25:01.897213Z",
     "iopub.status.idle": "2024-02-14T16:25:01.907251Z",
     "shell.execute_reply": "2024-02-14T16:25:01.905727Z"
    },
    "papermill": {
     "duration": 0.030599,
     "end_time": "2024-02-14T16:25:01.911985",
     "exception": false,
     "start_time": "2024-02-14T16:25:01.881386",
     "status": "completed"
    },
    "tags": []
   },
   "outputs": [],
   "source": [
    "#accuracy on training data\n",
    "X_train_prediction = model.predict(X_train)\n",
    "training_data_accuracy = accuracy_score(X_train_prediction, y_train)"
   ]
  },
  {
   "cell_type": "code",
   "execution_count": 28,
   "id": "7cc0d30f",
   "metadata": {
    "execution": {
     "iopub.execute_input": "2024-02-14T16:25:01.977672Z",
     "iopub.status.busy": "2024-02-14T16:25:01.977022Z",
     "iopub.status.idle": "2024-02-14T16:25:01.984689Z",
     "shell.execute_reply": "2024-02-14T16:25:01.983324Z"
    },
    "papermill": {
     "duration": 0.047402,
     "end_time": "2024-02-14T16:25:01.990920",
     "exception": false,
     "start_time": "2024-02-14T16:25:01.943518",
     "status": "completed"
    },
    "tags": []
   },
   "outputs": [
    {
     "name": "stdout",
     "output_type": "stream",
     "text": [
      "0.9466327827191868\n"
     ]
    }
   ],
   "source": [
    "print(training_data_accuracy)"
   ]
  },
  {
   "cell_type": "code",
   "execution_count": 29,
   "id": "2224f405",
   "metadata": {
    "execution": {
     "iopub.execute_input": "2024-02-14T16:25:02.039153Z",
     "iopub.status.busy": "2024-02-14T16:25:02.038771Z",
     "iopub.status.idle": "2024-02-14T16:25:02.046489Z",
     "shell.execute_reply": "2024-02-14T16:25:02.045725Z"
    },
    "papermill": {
     "duration": 0.026334,
     "end_time": "2024-02-14T16:25:02.048662",
     "exception": false,
     "start_time": "2024-02-14T16:25:02.022328",
     "status": "completed"
    },
    "tags": []
   },
   "outputs": [],
   "source": [
    "#accuracy on test data\n",
    "X_test_prediction = model.predict(X_test)\n",
    "test_data_accuracy = accuracy_score(X_test_prediction, y_test)"
   ]
  },
  {
   "cell_type": "code",
   "execution_count": 30,
   "id": "484d17d3",
   "metadata": {
    "execution": {
     "iopub.execute_input": "2024-02-14T16:25:02.080482Z",
     "iopub.status.busy": "2024-02-14T16:25:02.079889Z",
     "iopub.status.idle": "2024-02-14T16:25:02.084722Z",
     "shell.execute_reply": "2024-02-14T16:25:02.083436Z"
    },
    "papermill": {
     "duration": 0.023032,
     "end_time": "2024-02-14T16:25:02.086966",
     "exception": false,
     "start_time": "2024-02-14T16:25:02.063934",
     "status": "completed"
    },
    "tags": []
   },
   "outputs": [
    {
     "name": "stdout",
     "output_type": "stream",
     "text": [
      "0.949238578680203\n"
     ]
    }
   ],
   "source": [
    "print(test_data_accuracy)"
   ]
  }
 ],
 "metadata": {
  "kaggle": {
   "accelerator": "none",
   "dataSources": [
    {
     "datasetId": 310,
     "sourceId": 23498,
     "sourceType": "datasetVersion"
    }
   ],
   "dockerImageVersionId": 30646,
   "isGpuEnabled": false,
   "isInternetEnabled": true,
   "language": "python",
   "sourceType": "notebook"
  },
  "kernelspec": {
   "display_name": "Python 3",
   "language": "python",
   "name": "python3"
  },
  "language_info": {
   "codemirror_mode": {
    "name": "ipython",
    "version": 3
   },
   "file_extension": ".py",
   "mimetype": "text/x-python",
   "name": "python",
   "nbconvert_exporter": "python",
   "pygments_lexer": "ipython3",
   "version": "3.10.13"
  },
  "papermill": {
   "default_parameters": {},
   "duration": 11.51458,
   "end_time": "2024-02-14T16:25:02.621668",
   "environment_variables": {},
   "exception": null,
   "input_path": "__notebook__.ipynb",
   "output_path": "__notebook__.ipynb",
   "parameters": {},
   "start_time": "2024-02-14T16:24:51.107088",
   "version": "2.5.0"
  }
 },
 "nbformat": 4,
 "nbformat_minor": 5
}
